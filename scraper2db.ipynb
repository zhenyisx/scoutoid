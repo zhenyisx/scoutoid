{
  "nbformat": 4,
  "nbformat_minor": 0,
  "metadata": {
    "colab": {
      "provenance": [],
      "authorship_tag": "ABX9TyOHvcWStBR6DMw5McsDXkjR",
      "include_colab_link": true
    },
    "kernelspec": {
      "name": "python3",
      "display_name": "Python 3"
    },
    "language_info": {
      "name": "python"
    }
  },
  "cells": [
    {
      "cell_type": "markdown",
      "metadata": {
        "id": "view-in-github",
        "colab_type": "text"
      },
      "source": [
        "<a href=\"https://colab.research.google.com/github/zhenyisx/scoutoid/blob/main/scraper2db.ipynb\" target=\"_parent\"><img src=\"https://colab.research.google.com/assets/colab-badge.svg\" alt=\"Open In Colab\"/></a>"
      ]
    },
    {
      "cell_type": "markdown",
      "source": [
        "To scrape website and populate to database (csv file)"
      ],
      "metadata": {
        "id": "Z46myB-0fZNQ"
      }
    },
    {
      "cell_type": "code",
      "source": [
        "# Imports\n",
        "import requests\n",
        "import numpy as np\n",
        "import pandas as pd\n",
        "from bs4 import BeautifulSoup\n",
        "import matplotlib.pyplot as plt\n",
        "\n",
        "from google.colab import  drive\n",
        "drive.mount('/drive')\n",
        "\n",
        "%matplotlib inline"
      ],
      "metadata": {
        "id": "_dEawkCOfhSz"
      },
      "execution_count": 2,
      "outputs": []
    },
    {
      "cell_type": "code",
      "source": [
        "# maxpreps's homepage\n",
        "maxpreps_url = 'https://www.maxpreps.com/ca/central-coast-section/soccer/girls/scores/?date=2/13/2023'  # please change the date if needed\n",
        "\n",
        "# Use requests to retrieve data from a given URL\n",
        "maxpreps_response = requests.get(maxpreps_url, headers = {\"User-Agent\": \"Mozilla/5.0 (Windows NT 10.0; Win64; x64)\"})\n",
        "\n",
        "# Parse the whole HTML page using BeautifulSoup\n",
        "maxpreps_soup = BeautifulSoup(maxpreps_response.text, 'html.parser')\n",
        "\n",
        "# Title of the parsed page\n",
        "maxpreps_soup.title"
      ],
      "metadata": {
        "colab": {
          "base_uri": "https://localhost:8080/"
        },
        "id": "FZEILUS6tV-7",
        "outputId": "c27ed4a5-f9d9-49b9-ea3b-4606022cdf69"
      },
      "execution_count": 3,
      "outputs": [
        {
          "output_type": "execute_result",
          "data": {
            "text/plain": [
              "<title>\n",
              "\tCentral Coast Section High School Girls Soccer Scores | 2/13/2023 Results | MaxPreps\n",
              "</title>"
            ]
          },
          "metadata": {},
          "execution_count": 3
        }
      ]
    },
    {
      "cell_type": "code",
      "source": [
        "# step 1: find date"
      ],
      "metadata": {
        "id": "1Ku4e5aHE-A3"
      },
      "execution_count": null,
      "outputs": []
    },
    {
      "cell_type": "code",
      "source": [
        "# find date\n",
        "\n",
        "# <a href=\"/ca/central-coast-section/soccer/girls/scores/?date=2/13/2023\" class=\"btn btn-default active\">Feb 13, 2023</a>\n",
        "today = maxpreps_soup.find('div', {'class': 'calendar'}).find('ol', {'class': 'week'}).find('a', {'class': 'btn btn-default active'})\n",
        "print(today.text)"
      ],
      "metadata": {
        "id": "exKFBdyw3G2e",
        "outputId": "9596a2e5-ea3b-4e9d-ef05-11101be33ed4",
        "colab": {
          "base_uri": "https://localhost:8080/"
        }
      },
      "execution_count": 36,
      "outputs": [
        {
          "output_type": "stream",
          "name": "stdout",
          "text": [
            "Feb 13, 2023\n"
          ]
        }
      ]
    },
    {
      "cell_type": "code",
      "source": [],
      "metadata": {
        "id": "aRQ0qD99FNAV"
      },
      "execution_count": 37,
      "outputs": []
    },
    {
      "cell_type": "code",
      "source": [
        "# create dateframe for this date\n",
        "schedule_df = pd.DataFrame({'Date': pd.Series(dtype='datetime64[ns]'),\n",
        "                   'Home Team': pd.Series(dtype='str'),\n",
        "                   'Home Score': pd.Series(dtype='int'),\n",
        "                   'Away Team': pd.Series(dtype='str'),\n",
        "                   'Away Score': pd.Series(dtype='int')})\n",
        "\n",
        "# populate the datafrme\n",
        "def convert_to_score(raw_input):\n",
        "  try:\n",
        "      return int(raw_input)\n",
        "  except ValueError:\n",
        "      # Handle the exception\n",
        "      print('score not valid, using -1 instead')\n",
        "      return -1\n",
        "  except AttributeError:\n",
        "      # Handle the exception\n",
        "      print('score not valid, using -1 instead')\n",
        "      return -1\n",
        "\n",
        "matches = maxpreps_soup.find('div', {'class': 'contests'})\n",
        "\n",
        "for m in  matches.find_all('ul', {'class': 'teams'}):\n",
        "  raw_record = m.find_all(\"li\")\n",
        "\n",
        "  # home score\n",
        "  try:\n",
        "    home_score = convert_to_score(raw_record[0].find('div', {'class': 'score'}).text.strip())\n",
        "  except ValueError:\n",
        "      # Handle the exception\n",
        "      print('score not valid, using -1 instead')\n",
        "      home_score = -1\n",
        "  except AttributeError:\n",
        "      # Handle the exception\n",
        "      print('score not valid, using -1 instead')\n",
        "      home_score = -1\n",
        "  print(home_score)\n",
        "\n",
        "  # home name\n",
        "  home_name = raw_record[0].find('div', {'class': 'name'}).text.strip()\n",
        "  print(home_name)\n",
        "\n",
        "  # away score\n",
        "  try:\n",
        "    away_score = convert_to_score(raw_record[1].find('div', {'class': 'score'}).text.strip())\n",
        "  except ValueError:\n",
        "      # Handle the exception\n",
        "      print('score not valid, using -1 instead')\n",
        "      away_score = -1\n",
        "  except AttributeError:\n",
        "      # Handle the exception\n",
        "      print('score not valid, using -1 instead')\n",
        "      away_score = -1\n",
        "  print(away_score)\n",
        "\n",
        "  # away name\n",
        "  away_name = raw_record[1].find('div', {'class': 'name'}).text.strip()\n",
        "  print(away_name)\n",
        "\n",
        "  m_result = {'Date':today.text, 'Home Team':home_name, 'Home Score':home_score, 'Away Team':away_name, 'Away Score':away_score}\n",
        "  schedule_df = schedule_df.append(m_result, ignore_index=True)\n"
      ],
      "metadata": {
        "colab": {
          "base_uri": "https://localhost:8080/"
        },
        "id": "Lm4i5tirvZbf",
        "outputId": "80059462-5469-4198-904e-b34e85a7a2b5"
      },
      "execution_count": 64,
      "outputs": [
        {
          "output_type": "stream",
          "name": "stdout",
          "text": [
            "0\n",
            "Seaside\n",
            "1\n",
            "St. Francis\n",
            "7\n",
            "Santa Cruz\n",
            "0\n",
            "San Lorenzo Valley\n",
            "0\n",
            "Anzar\n",
            "0\n",
            "Oakwood\n",
            "score not valid, using -1 instead\n",
            "-1\n",
            "Pacific Grove\n",
            "1\n",
            "Gonzales\n",
            "score not valid, using -1 instead\n",
            "-1\n",
            "York\n",
            "0\n",
            "Santa Catalina\n",
            "2\n",
            "Homestead\n",
            "1\n",
            "Woodside\n",
            "score not valid, using -1 instead\n",
            "-1\n",
            "Carmel\n",
            "score not valid, using -1 instead\n",
            "-1\n",
            "North Monterey County\n",
            "4\n",
            "Prospect\n",
            "0\n",
            "Overfelt\n",
            "10\n",
            "The Nueva School\n",
            "0\n",
            "Summit Preparatory\n"
          ]
        }
      ]
    },
    {
      "cell_type": "code",
      "source": [
        "# show schedules\n",
        "print(schedule_df)\n",
        "  # print(matches.prettify())"
      ],
      "metadata": {
        "id": "-Xi7xt28GF9r",
        "outputId": "d978880e-94f7-4d10-d4ab-d28cd05922bf",
        "colab": {
          "base_uri": "https://localhost:8080/"
        }
      },
      "execution_count": 65,
      "outputs": [
        {
          "output_type": "stream",
          "name": "stdout",
          "text": [
            "           Date         Home Team  Home Score              Away Team  \\\n",
            "0  Feb 13, 2023           Seaside           0            St. Francis   \n",
            "1  Feb 13, 2023        Santa Cruz           7     San Lorenzo Valley   \n",
            "2  Feb 13, 2023             Anzar           0                Oakwood   \n",
            "3  Feb 13, 2023     Pacific Grove          -1               Gonzales   \n",
            "4  Feb 13, 2023              York          -1         Santa Catalina   \n",
            "5  Feb 13, 2023         Homestead           2               Woodside   \n",
            "6  Feb 13, 2023            Carmel          -1  North Monterey County   \n",
            "7  Feb 13, 2023          Prospect           4               Overfelt   \n",
            "8  Feb 13, 2023  The Nueva School          10     Summit Preparatory   \n",
            "\n",
            "   Away Score  \n",
            "0           1  \n",
            "1           0  \n",
            "2           0  \n",
            "3           1  \n",
            "4           0  \n",
            "5           1  \n",
            "6          -1  \n",
            "7           0  \n",
            "8           0  \n"
          ]
        }
      ]
    },
    {
      "cell_type": "code",
      "source": [
        "\n",
        "schedule_df.to_csv('/drive/My Drive/schedule.csv', index=False)"
      ],
      "metadata": {
        "id": "zNgrJygSW_uN"
      },
      "execution_count": 66,
      "outputs": []
    },
    {
      "cell_type": "code",
      "source": [],
      "metadata": {
        "id": "QLKZ5WY6eKec"
      },
      "execution_count": null,
      "outputs": []
    },
    {
      "cell_type": "code",
      "source": [
        "teams = list(set(list(schedule_df[\"Home Team\"].unique())+ list(schedule_df[\"Away Team\"].unique())))\n",
        "print(teams)\n",
        "\n",
        "# initialize the ranking dataframe\n",
        "ranking_df = pd.DataFrame({\n",
        "                   'Team': pd.Series(dtype='str'),\n",
        "                   'Total Points': pd.Series(dtype='int'),\n",
        "                   'Total Games': pd.Series(dtype='int'),\n",
        "                   'Total Wins': pd.Series(dtype='int'),\n",
        "                   'Total Losses': pd.Series(dtype='int'),\n",
        "                   'Total Ties': pd.Series(dtype='int'),\n",
        "                   'PPG': pd.Series(dtype='float'),})\n",
        "\n",
        "\n",
        "\n",
        "for t in teams:\n",
        "  t_result = {'Team':t, 'Total Points': 0,\n",
        "                   'Total Games': 0,\n",
        "                   'Total Wins': 0,\n",
        "                   'Total Losses': 0,\n",
        "                   'Total Ties': 0,\n",
        "                   'PPG':0}\n",
        "  ranking_df = ranking_df.append(t_result, ignore_index=True)\n",
        "print(ranking_df)\n",
        "\n",
        "\n",
        "# populate ranking dataframe based on schedule\n",
        "for index,row in schedule_df.iterrows():\n",
        "  home_team = row['Home Team']\n",
        "  away_team = row['Away Team']\n",
        "  home_score = row['Home Score']\n",
        "  away_score = row['Away Score']\n",
        "\n",
        "  ranking_df.loc[(ranking_df['Team'] == home_team), 'Total Games'] += 1\n",
        "  ranking_df.loc[(ranking_df['Team'] == away_team), 'Total Games'] += 1\n",
        "\n",
        "  if home_score > away_score: # home win  \n",
        "    ranking_df.loc[(ranking_df['Team'] == home_team), 'Total Wins'] += 1\n",
        "    ranking_df.loc[(ranking_df['Team'] == home_team), 'Total Points'] += 3\n",
        "    ranking_df.loc[(ranking_df['Team'] == away_team), 'Total Losses'] += 1\n",
        "  elif home_score < away_score: # away win\n",
        "    ranking_df.loc[(ranking_df['Team'] == away_team), 'Total Wins'] += 1\n",
        "    ranking_df.loc[(ranking_df['Team'] == away_team), 'Total Points'] += 3\n",
        "    ranking_df.loc[(ranking_df['Team'] == home_team), 'Total Losses'] += 1\n",
        "  elif home_score == away_score: # tie\n",
        "    ranking_df.loc[(ranking_df['Team'] == home_team), 'Total Ties'] += 1\n",
        "    ranking_df.loc[(ranking_df['Team'] == away_team), 'Total Ties'] += 1\n",
        "    ranking_df.loc[(ranking_df['Team'] == home_team), 'Total Points'] += 1\n",
        "    ranking_df.loc[(ranking_df['Team'] == away_team), 'Total Points'] += 1\n",
        "\n",
        "ranking_df['PPG'] = ranking_df['Total Points'] / ranking_df['Total Games']\n",
        "\n",
        "ranking_df = ranking_df.sort_values(by=['PPG', 'Total Points'], ascending=False)\n",
        "print(ranking_df)\n",
        "\n",
        "#     print(row['c1'], row['c2'])\n"
      ],
      "metadata": {
        "colab": {
          "base_uri": "https://localhost:8080/"
        },
        "id": "nksiVfx8w3O6",
        "outputId": "acc8d445-fc66-40de-c6f0-ea56cbbe2082"
      },
      "execution_count": 67,
      "outputs": [
        {
          "output_type": "stream",
          "name": "stdout",
          "text": [
            "['Anzar', 'York', 'San Lorenzo Valley', 'Seaside', 'Carmel', 'Santa Catalina', 'Gonzales', 'Pacific Grove', 'Santa Cruz', 'Overfelt', 'Summit Preparatory', 'Prospect', 'Woodside', 'The Nueva School', 'Oakwood', 'North Monterey County', 'Homestead', 'St. Francis']\n",
            "                     Team  Total Points  Total Games  Total Wins  \\\n",
            "0                   Anzar             0            0           0   \n",
            "1                    York             0            0           0   \n",
            "2      San Lorenzo Valley             0            0           0   \n",
            "3                 Seaside             0            0           0   \n",
            "4                  Carmel             0            0           0   \n",
            "5          Santa Catalina             0            0           0   \n",
            "6                Gonzales             0            0           0   \n",
            "7           Pacific Grove             0            0           0   \n",
            "8              Santa Cruz             0            0           0   \n",
            "9                Overfelt             0            0           0   \n",
            "10     Summit Preparatory             0            0           0   \n",
            "11               Prospect             0            0           0   \n",
            "12               Woodside             0            0           0   \n",
            "13       The Nueva School             0            0           0   \n",
            "14                Oakwood             0            0           0   \n",
            "15  North Monterey County             0            0           0   \n",
            "16              Homestead             0            0           0   \n",
            "17            St. Francis             0            0           0   \n",
            "\n",
            "    Total Losses  Total Ties  PPG  \n",
            "0              0           0  0.0  \n",
            "1              0           0  0.0  \n",
            "2              0           0  0.0  \n",
            "3              0           0  0.0  \n",
            "4              0           0  0.0  \n",
            "5              0           0  0.0  \n",
            "6              0           0  0.0  \n",
            "7              0           0  0.0  \n",
            "8              0           0  0.0  \n",
            "9              0           0  0.0  \n",
            "10             0           0  0.0  \n",
            "11             0           0  0.0  \n",
            "12             0           0  0.0  \n",
            "13             0           0  0.0  \n",
            "14             0           0  0.0  \n",
            "15             0           0  0.0  \n",
            "16             0           0  0.0  \n",
            "17             0           0  0.0  \n",
            "                     Team  Total Points  Total Games  Total Wins  \\\n",
            "5          Santa Catalina             3            1           1   \n",
            "6                Gonzales             3            1           1   \n",
            "8              Santa Cruz             3            1           1   \n",
            "11               Prospect             3            1           1   \n",
            "13       The Nueva School             3            1           1   \n",
            "16              Homestead             3            1           1   \n",
            "17            St. Francis             3            1           1   \n",
            "0                   Anzar             1            1           0   \n",
            "4                  Carmel             1            1           0   \n",
            "14                Oakwood             1            1           0   \n",
            "15  North Monterey County             1            1           0   \n",
            "1                    York             0            1           0   \n",
            "2      San Lorenzo Valley             0            1           0   \n",
            "3                 Seaside             0            1           0   \n",
            "7           Pacific Grove             0            1           0   \n",
            "9                Overfelt             0            1           0   \n",
            "10     Summit Preparatory             0            1           0   \n",
            "12               Woodside             0            1           0   \n",
            "\n",
            "    Total Losses  Total Ties  PPG  \n",
            "5              0           0  3.0  \n",
            "6              0           0  3.0  \n",
            "8              0           0  3.0  \n",
            "11             0           0  3.0  \n",
            "13             0           0  3.0  \n",
            "16             0           0  3.0  \n",
            "17             0           0  3.0  \n",
            "0              0           1  1.0  \n",
            "4              0           1  1.0  \n",
            "14             0           1  1.0  \n",
            "15             0           1  1.0  \n",
            "1              1           0  0.0  \n",
            "2              1           0  0.0  \n",
            "3              1           0  0.0  \n",
            "7              1           0  0.0  \n",
            "9              1           0  0.0  \n",
            "10             1           0  0.0  \n",
            "12             1           0  0.0  \n"
          ]
        }
      ]
    },
    {
      "cell_type": "code",
      "source": [
        "ranking_df.to_csv('/drive/My Drive/ranking.csv', index=False)"
      ],
      "metadata": {
        "id": "sah_im9Sr2a5"
      },
      "execution_count": 68,
      "outputs": []
    },
    {
      "cell_type": "code",
      "source": [],
      "metadata": {
        "id": "48vO8dDqpG-_",
        "outputId": "aff48f36-cb77-4cc4-abf6-e71d5cb43c6f",
        "colab": {
          "base_uri": "https://localhost:8080/"
        }
      },
      "execution_count": 58,
      "outputs": [
        {
          "output_type": "stream",
          "name": "stdout",
          "text": [
            "                     Team  Total Points  Total Games  Total Wins  \\\n",
            "0                   Anzar             0            0           0   \n",
            "1                    York             0            0           0   \n",
            "2      San Lorenzo Valley             0            0           0   \n",
            "3                 Seaside             0            0           0   \n",
            "4                  Carmel             0            0           0   \n",
            "5          Santa Catalina             0            0           0   \n",
            "6                Gonzales             0            0           0   \n",
            "7           Pacific Grove             0            0           0   \n",
            "8              Santa Cruz             0            5           5   \n",
            "9                Overfelt             0            0           0   \n",
            "10     Summit Preparatory             0            0           0   \n",
            "11               Prospect             0            1           1   \n",
            "12               Woodside             0            0           0   \n",
            "13       The Nueva School             0            1           1   \n",
            "14                Oakwood             0            0           0   \n",
            "15  North Monterey County             0            0           0   \n",
            "16              Homestead             0            4           4   \n",
            "17            St. Francis             0            0           0   \n",
            "\n",
            "    Total Losses  Total Ties  PPG  \n",
            "0              0           0  0.0  \n",
            "1              0           0  0.0  \n",
            "2              0           0  0.0  \n",
            "3              0           0  0.0  \n",
            "4              0           0  0.0  \n",
            "5              0           0  0.0  \n",
            "6              0           0  0.0  \n",
            "7              0           0  0.0  \n",
            "8              0           0  0.0  \n",
            "9              0           0  0.0  \n",
            "10             0           0  0.0  \n",
            "11             0           0  0.0  \n",
            "12             0           0  0.0  \n",
            "13             0           0  0.0  \n",
            "14             0           0  0.0  \n",
            "15             0           0  0.0  \n",
            "16             0           0  0.0  \n",
            "17             0           0  0.0  \n"
          ]
        }
      ]
    },
    {
      "cell_type": "code",
      "source": [
        "# create a record and insert to dataframe\n",
        "\n",
        "raw_record = m.find_all(\"li\")\n",
        "\n",
        "# home score\n",
        "home_socre = int(raw_record[0].find('div', {'class': 'score'}).text.strip())\n",
        "print(home_socre)\n",
        "\n",
        "# home name\n",
        "home_name = raw_record[0].find('div', {'class': 'name'}).text.strip()\n",
        "print(home_name)\n",
        "\n",
        "# away score\n",
        "away_socre = int(raw_record[1].find('div', {'class': 'score'}).text.strip())\n",
        "print(away_socre)\n",
        "\n",
        "# away name\n",
        "away_name = raw_record[1].find('div', {'class': 'name'}).text.strip()\n",
        "print(away_name)\n"
      ],
      "metadata": {
        "id": "o9QBUN7j1hje",
        "outputId": "38d00c55-43e4-4435-d003-51a8a71ac382",
        "colab": {
          "base_uri": "https://localhost:8080/"
        }
      },
      "execution_count": 21,
      "outputs": [
        {
          "output_type": "stream",
          "name": "stdout",
          "text": [
            "0\n",
            "Seaside\n",
            "1\n",
            "St. Francis\n"
          ]
        }
      ]
    },
    {
      "cell_type": "code",
      "source": [
        "for li in m.find_all(\"li\"):\n",
        "  # for each match, extract a record and save it to a dataframe\n",
        "    print(li.text.strip(), end=\" \")"
      ],
      "metadata": {
        "colab": {
          "base_uri": "https://localhost:8080/"
        },
        "id": "CIJTYuOzxj7P",
        "outputId": "9fde5a5c-4733-42cc-c33e-d43ef8313647"
      },
      "execution_count": 9,
      "outputs": [
        {
          "output_type": "stream",
          "name": "stdout",
          "text": [
            "0\n",
            "Seaside 1\n",
            "St. Francis "
          ]
        }
      ]
    },
    {
      "cell_type": "code",
      "source": [
        "# extract match scores\n",
        "\n",
        "for match in maxpreps_soup.find_all('div', {'class': 'article'}):\n",
        "    if article.h3:\n",
        "        # Title of the article\n",
        "        print(article.h3.string)\n",
        "        # Text\n",
        "        print(article.p.text)\n",
        "        print()\n"
      ],
      "metadata": {
        "id": "HSAkJygnuBl8"
      },
      "execution_count": null,
      "outputs": []
    },
    {
      "cell_type": "code",
      "source": [
        "\n",
        "\n",
        "\n"
      ],
      "metadata": {
        "id": "ISO4n0bTzRDG",
        "outputId": "6ea97a04-7117-47d5-810c-962b919955f2",
        "colab": {
          "base_uri": "https://localhost:8080/"
        }
      },
      "execution_count": 34,
      "outputs": [
        {
          "output_type": "stream",
          "name": "stdout",
          "text": [
            "           Date Home Team  Home Score Away Team  Away Score\n",
            "0  Feb 13, 2023         a           0         b           0\n"
          ]
        }
      ]
    },
    {
      "cell_type": "code",
      "source": [
        "from google.colab import  drive\n",
        "drive.mount('/drive')\n",
        "schedule_df2.to_csv('/drive/My Drive/schedule_tmp.csv', index=False)"
      ],
      "metadata": {
        "id": "xIW9_Cx05JVL",
        "outputId": "c2e039c3-6dd0-4310-dc81-eb849466bf47",
        "colab": {
          "base_uri": "https://localhost:8080/"
        }
      },
      "execution_count": 35,
      "outputs": [
        {
          "output_type": "stream",
          "name": "stdout",
          "text": [
            "Drive already mounted at /drive; to attempt to forcibly remount, call drive.mount(\"/drive\", force_remount=True).\n"
          ]
        }
      ]
    }
  ]
}